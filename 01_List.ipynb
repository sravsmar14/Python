{
 "cells": [
  {
   "cell_type": "markdown",
   "id": "fa4030b0",
   "metadata": {},
   "source": [
    "## Variables\n",
    "\n",
    "#### This are containers which can hold the data.Predefined key words can be used"
   ]
  },
  {
   "cell_type": "code",
   "execution_count": 1,
   "id": "2bbd177d",
   "metadata": {},
   "outputs": [],
   "source": [
    "name = \"rajasekhar\"\n",
    "rice=1000\n",
    "rent=12000\n",
    "car_expenses=2000\n"
   ]
  },
  {
   "cell_type": "code",
   "execution_count": 2,
   "id": "eabce61e",
   "metadata": {},
   "outputs": [],
   "source": [
    "Total_expenses = rice+rent+car_expenses"
   ]
  },
  {
   "cell_type": "code",
   "execution_count": 3,
   "id": "d88412ad",
   "metadata": {},
   "outputs": [
    {
     "data": {
      "text/plain": [
       "15000"
      ]
     },
     "execution_count": 3,
     "metadata": {},
     "output_type": "execute_result"
    }
   ],
   "source": [
    "Total_expenses"
   ]
  },
  {
   "cell_type": "code",
   "execution_count": 9,
   "id": "1834a908",
   "metadata": {},
   "outputs": [
    {
     "name": "stdout",
     "output_type": "stream",
     "text": [
      "Total monthly expenses for  rajasekhar:15000\n"
     ]
    }
   ],
   "source": [
    "print(\"Total monthly expenses for  \" +name+':'  + str(Total_expenses))"
   ]
  },
  {
   "cell_type": "markdown",
   "id": "8b458fd7",
   "metadata": {},
   "source": [
    "## Numbers"
   ]
  },
  {
   "cell_type": "code",
   "execution_count": 11,
   "id": "c5fc3542",
   "metadata": {},
   "outputs": [
    {
     "data": {
      "text/plain": [
       "-1"
      ]
     },
     "execution_count": 11,
     "metadata": {},
     "output_type": "execute_result"
    }
   ],
   "source": [
    "3-4"
   ]
  },
  {
   "cell_type": "code",
   "execution_count": 12,
   "id": "23c42d71",
   "metadata": {},
   "outputs": [
    {
     "data": {
      "text/plain": [
       "0.8"
      ]
     },
     "execution_count": 12,
     "metadata": {},
     "output_type": "execute_result"
    }
   ],
   "source": [
    "4/5"
   ]
  },
  {
   "cell_type": "code",
   "execution_count": 14,
   "id": "1d83028e",
   "metadata": {},
   "outputs": [
    {
     "data": {
      "text/plain": [
       "1"
      ]
     },
     "execution_count": 14,
     "metadata": {},
     "output_type": "execute_result"
    }
   ],
   "source": [
    "11 % 5"
   ]
  },
  {
   "cell_type": "markdown",
   "id": "b8798073",
   "metadata": {},
   "source": [
    "## Strings\n",
    "#### Strings are immutable, we cannot change them we can place another string in the variable"
   ]
  },
  {
   "cell_type": "code",
   "execution_count": 1,
   "id": "9c6a7638",
   "metadata": {},
   "outputs": [],
   "source": [
    "text = 'Raja sekhar'"
   ]
  },
  {
   "cell_type": "code",
   "execution_count": 2,
   "id": "9c42a606",
   "metadata": {},
   "outputs": [
    {
     "data": {
      "text/plain": [
       "'R'"
      ]
     },
     "execution_count": 2,
     "metadata": {},
     "output_type": "execute_result"
    }
   ],
   "source": [
    "text[0]"
   ]
  },
  {
   "cell_type": "code",
   "execution_count": 17,
   "id": "17cba57c",
   "metadata": {},
   "outputs": [
    {
     "data": {
      "text/plain": [
       "'Raj'"
      ]
     },
     "execution_count": 17,
     "metadata": {},
     "output_type": "execute_result"
    }
   ],
   "source": [
    "text[0:3]"
   ]
  },
  {
   "cell_type": "code",
   "execution_count": 18,
   "id": "05b719c0",
   "metadata": {},
   "outputs": [
    {
     "data": {
      "text/plain": [
       "'h'"
      ]
     },
     "execution_count": 18,
     "metadata": {},
     "output_type": "execute_result"
    }
   ],
   "source": [
    "text[0-3]"
   ]
  },
  {
   "cell_type": "code",
   "execution_count": 19,
   "id": "3c4a5020",
   "metadata": {},
   "outputs": [
    {
     "data": {
      "text/plain": [
       "'k'"
      ]
     },
     "execution_count": 19,
     "metadata": {},
     "output_type": "execute_result"
    }
   ],
   "source": [
    "text[0-4]"
   ]
  },
  {
   "cell_type": "code",
   "execution_count": 21,
   "id": "08cbe22c",
   "metadata": {},
   "outputs": [
    {
     "ename": "TypeError",
     "evalue": "'str' object does not support item assignment",
     "output_type": "error",
     "traceback": [
      "\u001b[0;31m---------------------------------------------------------------------------\u001b[0m",
      "\u001b[0;31mTypeError\u001b[0m                                 Traceback (most recent call last)",
      "\u001b[0;32m<ipython-input-21-81d0c943823e>\u001b[0m in \u001b[0;36m<module>\u001b[0;34m\u001b[0m\n\u001b[0;32m----> 1\u001b[0;31m \u001b[0mtext\u001b[0m\u001b[0;34m[\u001b[0m\u001b[0;36m0\u001b[0m\u001b[0;34m]\u001b[0m \u001b[0;34m=\u001b[0m \u001b[0;34m'u'\u001b[0m\u001b[0;34m\u001b[0m\u001b[0;34m\u001b[0m\u001b[0m\n\u001b[0m",
      "\u001b[0;31mTypeError\u001b[0m: 'str' object does not support item assignment"
     ]
    }
   ],
   "source": [
    "text[0] = 'u'"
   ]
  },
  {
   "cell_type": "code",
   "execution_count": 4,
   "id": "459fcbb6",
   "metadata": {},
   "outputs": [
    {
     "data": {
      "text/plain": [
       "'sekhar'"
      ]
     },
     "execution_count": 4,
     "metadata": {},
     "output_type": "execute_result"
    }
   ],
   "source": [
    "text[5:]"
   ]
  },
  {
   "cell_type": "code",
   "execution_count": 5,
   "id": "2c26ea1a",
   "metadata": {},
   "outputs": [
    {
     "data": {
      "text/plain": [
       "'Raj'"
      ]
     },
     "execution_count": 5,
     "metadata": {},
     "output_type": "execute_result"
    }
   ],
   "source": [
    "text[:3]"
   ]
  },
  {
   "cell_type": "code",
   "execution_count": 6,
   "id": "b947d8ef",
   "metadata": {},
   "outputs": [],
   "source": [
    "address = '''1 purple street\n",
    "newyork\n",
    "pakala'''"
   ]
  },
  {
   "cell_type": "code",
   "execution_count": 7,
   "id": "8ee809b1",
   "metadata": {},
   "outputs": [
    {
     "data": {
      "text/plain": [
       "'1 purple street\\nnewyork\\npakala'"
      ]
     },
     "execution_count": 7,
     "metadata": {},
     "output_type": "execute_result"
    }
   ],
   "source": [
    "address"
   ]
  },
  {
   "cell_type": "code",
   "execution_count": 8,
   "id": "f831577f",
   "metadata": {},
   "outputs": [],
   "source": [
    "sc= 'total number is stats'\n",
    "num = 25"
   ]
  },
  {
   "cell_type": "code",
   "execution_count": 10,
   "id": "bb294b71",
   "metadata": {},
   "outputs": [
    {
     "data": {
      "text/plain": [
       "'total number is stats:25'"
      ]
     },
     "execution_count": 10,
     "metadata": {},
     "output_type": "execute_result"
    }
   ],
   "source": [
    "sc+':'+str(num)"
   ]
  },
  {
   "cell_type": "markdown",
   "id": "bde6c3ee",
   "metadata": {},
   "source": [
    "# https://www.youtube.com/watch?v=arceZxmglH8"
   ]
  },
  {
   "cell_type": "markdown",
   "id": "2e862b4a",
   "metadata": {},
   "source": [
    "# List\n",
    "##### LIST are mutables and heterogenous\n",
    "##### APPEND will always add at end.Doesnot return any value.Modifes the original list.Append can take only one element at time\n",
    "##### INSERT If we want to insert a element at specific location then we should use INSERT\n",
    "##### EXTEND is used to add multiple elements at the end to the list\n",
    "##### POP it is used to remove the item from the list based on index. If no index is specified,pop returns and removes the last element in the list. It will return the deleted element\n",
    "##### REMOVE it deletes based on the element data we provide. It removed first occurrence of the given item from list and it does not returns the deleted element and it will remove only one element from the list\n",
    "#### CLEAR it will remove all the elements from the list and list becomes empty. We are not deleting the list we are deleting only the elements in the list\n",
    "#### DEL used to delete multiple elements also using slicing. it can delete entire list. Deletes based on index.This function will delete the elements in the list and also the list\n",
    "##### COUNT() it will count number elements appear in that list. if the given item is not in the list then it will return 0\n",
    "##### REVERSE it will reverse the items of the list in place. ID remains same\n",
    "##### LEN function will help in knowing the length\n",
    "##### IN function can be used if the element exists in list or not\n",
    "##### SORT will sort the elements in the list and (reverse=True) is used for descending SORT. \n",
    "##### SORTED It will not sort the original list but returns the sorted list\n",
    "##### MIN(),MAX(),SUM()"
   ]
  },
  {
   "cell_type": "code",
   "execution_count": 48,
   "id": "50afe3b3",
   "metadata": {},
   "outputs": [],
   "source": [
    "lst = ['pasta','fruits','veggies','bread']"
   ]
  },
  {
   "cell_type": "code",
   "execution_count": 132,
   "id": "6c347f04",
   "metadata": {},
   "outputs": [
    {
     "data": {
      "text/plain": [
       "['pasta',\n",
       " 'fruits',\n",
       " 'veggies',\n",
       " 'bread',\n",
       " ['new_one', 'new_two'],\n",
       " 'does not return any value',\n",
       " ['new_one', 'new_two']]"
      ]
     },
     "execution_count": 132,
     "metadata": {},
     "output_type": "execute_result"
    }
   ],
   "source": [
    "lst"
   ]
  },
  {
   "cell_type": "code",
   "execution_count": 16,
   "id": "3667a270",
   "metadata": {},
   "outputs": [
    {
     "data": {
      "text/plain": [
       "['pasta', 'fruits', 'veggies', 'bread']"
      ]
     },
     "execution_count": 16,
     "metadata": {},
     "output_type": "execute_result"
    }
   ],
   "source": [
    "lst[0:4]"
   ]
  },
  {
   "cell_type": "code",
   "execution_count": 17,
   "id": "9145c98b",
   "metadata": {},
   "outputs": [
    {
     "data": {
      "text/plain": [
       "['veggies']"
      ]
     },
     "execution_count": 17,
     "metadata": {},
     "output_type": "execute_result"
    }
   ],
   "source": [
    "lst[2:3]"
   ]
  },
  {
   "cell_type": "code",
   "execution_count": 18,
   "id": "cccb4653",
   "metadata": {},
   "outputs": [],
   "source": [
    "lst[0]='chips'"
   ]
  },
  {
   "cell_type": "code",
   "execution_count": 19,
   "id": "ec0cd779",
   "metadata": {},
   "outputs": [
    {
     "data": {
      "text/plain": [
       "['chips', 'fruits', 'veggies', 'bread']"
      ]
     },
     "execution_count": 19,
     "metadata": {},
     "output_type": "execute_result"
    }
   ],
   "source": [
    "lst"
   ]
  },
  {
   "cell_type": "code",
   "execution_count": 20,
   "id": "6740576f",
   "metadata": {},
   "outputs": [
    {
     "data": {
      "text/plain": [
       "'bread'"
      ]
     },
     "execution_count": 20,
     "metadata": {},
     "output_type": "execute_result"
    }
   ],
   "source": [
    "lst[-1]"
   ]
  },
  {
   "cell_type": "code",
   "execution_count": 133,
   "id": "405a477d",
   "metadata": {},
   "outputs": [],
   "source": [
    "lst.append(\"butter\")"
   ]
  },
  {
   "cell_type": "code",
   "execution_count": 55,
   "id": "327015eb",
   "metadata": {},
   "outputs": [
    {
     "ename": "TypeError",
     "evalue": "append() takes exactly one argument (2 given)",
     "output_type": "error",
     "traceback": [
      "\u001b[0;31m---------------------------------------------------------------------------\u001b[0m",
      "\u001b[0;31mTypeError\u001b[0m                                 Traceback (most recent call last)",
      "\u001b[0;32m<ipython-input-55-6ef99a94cdd7>\u001b[0m in \u001b[0;36m<module>\u001b[0;34m\u001b[0m\n\u001b[1;32m      1\u001b[0m \u001b[0;31m#can add only one element to list\u001b[0m\u001b[0;34m\u001b[0m\u001b[0;34m\u001b[0m\u001b[0;34m\u001b[0m\u001b[0m\n\u001b[0;32m----> 2\u001b[0;31m \u001b[0mlst\u001b[0m\u001b[0;34m.\u001b[0m\u001b[0mappend\u001b[0m\u001b[0;34m(\u001b[0m\u001b[0;34m\"new_one\"\u001b[0m\u001b[0;34m,\u001b[0m\u001b[0;34m\"new_two\"\u001b[0m\u001b[0;34m)\u001b[0m\u001b[0;34m\u001b[0m\u001b[0;34m\u001b[0m\u001b[0m\n\u001b[0m",
      "\u001b[0;31mTypeError\u001b[0m: append() takes exactly one argument (2 given)"
     ]
    }
   ],
   "source": [
    "#can add only one element to list\n",
    "lst.append(\"new_one\",\"new_two\")"
   ]
  },
  {
   "cell_type": "code",
   "execution_count": 134,
   "id": "3550eafe",
   "metadata": {},
   "outputs": [],
   "source": [
    "# this worked as we have only one element\n",
    "lst.append([\"new_one\",\"new_two\"])"
   ]
  },
  {
   "cell_type": "code",
   "execution_count": 135,
   "id": "9223c553",
   "metadata": {},
   "outputs": [
    {
     "data": {
      "text/plain": [
       "['pasta',\n",
       " 'fruits',\n",
       " 'veggies',\n",
       " 'bread',\n",
       " ['new_one', 'new_two'],\n",
       " 'does not return any value',\n",
       " ['new_one', 'new_two'],\n",
       " 'butter',\n",
       " ['new_one', 'new_two']]"
      ]
     },
     "execution_count": 135,
     "metadata": {},
     "output_type": "execute_result"
    }
   ],
   "source": [
    "lst"
   ]
  },
  {
   "cell_type": "code",
   "execution_count": 136,
   "id": "83a5a3d8",
   "metadata": {},
   "outputs": [
    {
     "data": {
      "text/plain": [
       "['new_one', 'new_two']"
      ]
     },
     "execution_count": 136,
     "metadata": {},
     "output_type": "execute_result"
    }
   ],
   "source": [
    "lst[len(lst)-1]"
   ]
  },
  {
   "cell_type": "code",
   "execution_count": 139,
   "id": "112e7e5a",
   "metadata": {},
   "outputs": [
    {
     "name": "stdout",
     "output_type": "stream",
     "text": [
      "pasta\n",
      "fruits\n",
      "veggies\n",
      "bread\n",
      "['new_one', 'new_two']\n",
      "does not return any value\n",
      "['new_one', 'new_two']\n",
      "butter\n",
      "['new_one', 'new_two']\n"
     ]
    }
   ],
   "source": [
    "for i in lst:\n",
    "    print(i)"
   ]
  },
  {
   "cell_type": "code",
   "execution_count": 141,
   "id": "e028c4eb",
   "metadata": {},
   "outputs": [
    {
     "name": "stdout",
     "output_type": "stream",
     "text": [
      "pasta\n",
      "fruits\n",
      "veggies\n",
      "bread\n",
      "['new_one', 'new_two']\n",
      "does not return any value\n",
      "['new_one', 'new_two']\n",
      "butter\n",
      "['new_one', 'new_two']\n"
     ]
    }
   ],
   "source": [
    "for i in range(len(lst)):\n",
    "    print(lst[i])"
   ]
  },
  {
   "cell_type": "code",
   "execution_count": 149,
   "id": "1949df20",
   "metadata": {},
   "outputs": [],
   "source": [
    "new_value=['R','a','j','a','s','e','k','h','a','r']"
   ]
  },
  {
   "cell_type": "code",
   "execution_count": 151,
   "id": "3a47122e",
   "metadata": {},
   "outputs": [
    {
     "name": "stdout",
     "output_type": "stream",
     "text": [
      "At index 0 and -10 : R\n",
      "At index 1 and -9 : a\n",
      "At index 2 and -8 : j\n",
      "At index 3 and -7 : a\n",
      "At index 4 and -6 : s\n",
      "At index 5 and -5 : e\n",
      "At index 6 and -4 : k\n",
      "At index 7 and -3 : h\n",
      "At index 8 and -2 : a\n",
      "At index 9 and -1 : r\n"
     ]
    }
   ],
   "source": [
    "\n",
    "length=len(new_value)\n",
    "for i in range(length):\n",
    "    print('At index',i, 'and',i-length,':',new_value[i])"
   ]
  },
  {
   "cell_type": "code",
   "execution_count": 52,
   "id": "64c2302e",
   "metadata": {},
   "outputs": [],
   "source": [
    "l1 = lst.append(\"does not return any value\")"
   ]
  },
  {
   "cell_type": "code",
   "execution_count": 53,
   "id": "95488699",
   "metadata": {},
   "outputs": [],
   "source": [
    "#lst did not return any value thats the reason there is no value in l1 where as in lst new element got added\n",
    "l1"
   ]
  },
  {
   "cell_type": "code",
   "execution_count": 54,
   "id": "c6d7d6fe",
   "metadata": {},
   "outputs": [
    {
     "data": {
      "text/plain": [
       "['pasta',\n",
       " 'fruits',\n",
       " 'veggies',\n",
       " 'bread',\n",
       " ['new_one', 'new_two'],\n",
       " 'does not return any value']"
      ]
     },
     "execution_count": 54,
     "metadata": {},
     "output_type": "execute_result"
    }
   ],
   "source": [
    "lst"
   ]
  },
  {
   "cell_type": "code",
   "execution_count": 58,
   "id": "bf6bad76",
   "metadata": {},
   "outputs": [],
   "source": [
    "# EXTENDS multiple elements in the list\n",
    "\n",
    "lst_new = [1,2,3,'raj','pakala','new']"
   ]
  },
  {
   "cell_type": "code",
   "execution_count": 59,
   "id": "90e9abea",
   "metadata": {},
   "outputs": [
    {
     "data": {
      "text/plain": [
       "[1, 2, 3, 'raj', 'pakala', 'new']"
      ]
     },
     "execution_count": 59,
     "metadata": {},
     "output_type": "execute_result"
    }
   ],
   "source": [
    "lst_new"
   ]
  },
  {
   "cell_type": "code",
   "execution_count": 61,
   "id": "9fcbd37d",
   "metadata": {},
   "outputs": [],
   "source": [
    "# same using append will return one list\n",
    "lst_new.extend(['two','new','elements'])"
   ]
  },
  {
   "cell_type": "code",
   "execution_count": 62,
   "id": "7206c0dc",
   "metadata": {},
   "outputs": [
    {
     "data": {
      "text/plain": [
       "[1, 2, 3, 'raj', 'pakala', 'new', 'two', 'new', 'elements']"
      ]
     },
     "execution_count": 62,
     "metadata": {},
     "output_type": "execute_result"
    }
   ],
   "source": [
    "lst_new"
   ]
  },
  {
   "cell_type": "code",
   "execution_count": 63,
   "id": "caf15b7f",
   "metadata": {},
   "outputs": [],
   "source": [
    "lst_new.extend([['new','nested_list','in extend']])"
   ]
  },
  {
   "cell_type": "code",
   "execution_count": 64,
   "id": "1081e25e",
   "metadata": {},
   "outputs": [
    {
     "data": {
      "text/plain": [
       "[1,\n",
       " 2,\n",
       " 3,\n",
       " 'raj',\n",
       " 'pakala',\n",
       " 'new',\n",
       " 'two',\n",
       " 'new',\n",
       " 'elements',\n",
       " ['new', 'nested_list', 'in extend']]"
      ]
     },
     "execution_count": 64,
     "metadata": {},
     "output_type": "execute_result"
    }
   ],
   "source": [
    "lst_new"
   ]
  },
  {
   "cell_type": "code",
   "execution_count": 65,
   "id": "466c8c01",
   "metadata": {},
   "outputs": [],
   "source": [
    "# it is used to insert at any given postition\n",
    "lst_new.insert(1,'chicken')"
   ]
  },
  {
   "cell_type": "code",
   "execution_count": 68,
   "id": "b4178bb2",
   "metadata": {},
   "outputs": [
    {
     "data": {
      "text/plain": [
       "[1,\n",
       " 'chicken',\n",
       " 2,\n",
       " 3,\n",
       " 'raj',\n",
       " 'pakala',\n",
       " 'new',\n",
       " 'two',\n",
       " 'new',\n",
       " 'elements',\n",
       " ['new', 'nested_list', 'in extend']]"
      ]
     },
     "execution_count": 68,
     "metadata": {},
     "output_type": "execute_result"
    }
   ],
   "source": [
    "lst_new"
   ]
  },
  {
   "cell_type": "code",
   "execution_count": 74,
   "id": "e159ba36",
   "metadata": {},
   "outputs": [],
   "source": [
    "lst_new.insert(-30,'negative_index')"
   ]
  },
  {
   "cell_type": "code",
   "execution_count": 75,
   "id": "18303572",
   "metadata": {},
   "outputs": [
    {
     "data": {
      "text/plain": [
       "['negative_index',\n",
       " 1,\n",
       " 'no_index',\n",
       " 'chicken',\n",
       " 2,\n",
       " 3,\n",
       " 'raj',\n",
       " 'pakala',\n",
       " 'new',\n",
       " 'two',\n",
       " 'new',\n",
       " 'elements',\n",
       " ['new', 'nested_list', 'in extend'],\n",
       " 'Positive_index']"
      ]
     },
     "execution_count": 75,
     "metadata": {},
     "output_type": "execute_result"
    }
   ],
   "source": [
    "lst_new"
   ]
  },
  {
   "cell_type": "code",
   "execution_count": 72,
   "id": "80346254",
   "metadata": {},
   "outputs": [],
   "source": [
    "lst_new.insert(50,'Positive_index')"
   ]
  },
  {
   "cell_type": "code",
   "execution_count": 73,
   "id": "cc48da7f",
   "metadata": {},
   "outputs": [
    {
     "data": {
      "text/plain": [
       "[1,\n",
       " 'no_index',\n",
       " 'chicken',\n",
       " 2,\n",
       " 3,\n",
       " 'raj',\n",
       " 'pakala',\n",
       " 'new',\n",
       " 'two',\n",
       " 'new',\n",
       " 'elements',\n",
       " ['new', 'nested_list', 'in extend'],\n",
       " 'Positive_index']"
      ]
     },
     "execution_count": 73,
     "metadata": {},
     "output_type": "execute_result"
    }
   ],
   "source": [
    "lst_new"
   ]
  },
  {
   "cell_type": "code",
   "execution_count": 76,
   "id": "cc81d0e2",
   "metadata": {},
   "outputs": [
    {
     "data": {
      "text/plain": [
       "'Positive_index'"
      ]
     },
     "execution_count": 76,
     "metadata": {},
     "output_type": "execute_result"
    }
   ],
   "source": [
    "lst_new.pop()"
   ]
  },
  {
   "cell_type": "code",
   "execution_count": 77,
   "id": "3a48841a",
   "metadata": {},
   "outputs": [
    {
     "data": {
      "text/plain": [
       "['negative_index',\n",
       " 1,\n",
       " 'no_index',\n",
       " 'chicken',\n",
       " 2,\n",
       " 3,\n",
       " 'raj',\n",
       " 'pakala',\n",
       " 'new',\n",
       " 'two',\n",
       " 'new',\n",
       " 'elements',\n",
       " ['new', 'nested_list', 'in extend']]"
      ]
     },
     "execution_count": 77,
     "metadata": {},
     "output_type": "execute_result"
    }
   ],
   "source": [
    "lst_new"
   ]
  },
  {
   "cell_type": "code",
   "execution_count": 78,
   "id": "37ebe4c3",
   "metadata": {},
   "outputs": [
    {
     "data": {
      "text/plain": [
       "'no_index'"
      ]
     },
     "execution_count": 78,
     "metadata": {},
     "output_type": "execute_result"
    }
   ],
   "source": [
    "lst_new.pop(2)"
   ]
  },
  {
   "cell_type": "code",
   "execution_count": 79,
   "id": "328b780f",
   "metadata": {},
   "outputs": [
    {
     "data": {
      "text/plain": [
       "['negative_index',\n",
       " 1,\n",
       " 'chicken',\n",
       " 2,\n",
       " 3,\n",
       " 'raj',\n",
       " 'pakala',\n",
       " 'new',\n",
       " 'two',\n",
       " 'new',\n",
       " 'elements',\n",
       " ['new', 'nested_list', 'in extend']]"
      ]
     },
     "execution_count": 79,
     "metadata": {},
     "output_type": "execute_result"
    }
   ],
   "source": [
    "lst_new"
   ]
  },
  {
   "cell_type": "code",
   "execution_count": 80,
   "id": "4f3f3cab",
   "metadata": {},
   "outputs": [
    {
     "ename": "IndexError",
     "evalue": "pop index out of range",
     "output_type": "error",
     "traceback": [
      "\u001b[0;31m---------------------------------------------------------------------------\u001b[0m",
      "\u001b[0;31mIndexError\u001b[0m                                Traceback (most recent call last)",
      "\u001b[0;32m<ipython-input-80-2c34d29b8646>\u001b[0m in \u001b[0;36m<module>\u001b[0;34m\u001b[0m\n\u001b[0;32m----> 1\u001b[0;31m \u001b[0mlst_new\u001b[0m\u001b[0;34m.\u001b[0m\u001b[0mpop\u001b[0m\u001b[0;34m(\u001b[0m\u001b[0;36m50\u001b[0m\u001b[0;34m)\u001b[0m\u001b[0;34m\u001b[0m\u001b[0;34m\u001b[0m\u001b[0m\n\u001b[0m",
      "\u001b[0;31mIndexError\u001b[0m: pop index out of range"
     ]
    }
   ],
   "source": [
    "lst_new.pop(50)"
   ]
  },
  {
   "cell_type": "code",
   "execution_count": 82,
   "id": "80bc6bf4",
   "metadata": {},
   "outputs": [],
   "source": [
    "lst_new.remove('two')"
   ]
  },
  {
   "cell_type": "code",
   "execution_count": 83,
   "id": "9d91c580",
   "metadata": {},
   "outputs": [
    {
     "data": {
      "text/plain": [
       "['negative_index',\n",
       " 1,\n",
       " 'chicken',\n",
       " 2,\n",
       " 3,\n",
       " 'raj',\n",
       " 'pakala',\n",
       " 'new',\n",
       " 'new',\n",
       " 'elements',\n",
       " ['new', 'nested_list', 'in extend']]"
      ]
     },
     "execution_count": 83,
     "metadata": {},
     "output_type": "execute_result"
    }
   ],
   "source": [
    "lst_new"
   ]
  },
  {
   "cell_type": "code",
   "execution_count": 85,
   "id": "9b34250f",
   "metadata": {},
   "outputs": [],
   "source": [
    "l_clear = [1,3,'raj']"
   ]
  },
  {
   "cell_type": "code",
   "execution_count": 86,
   "id": "647fa1e8",
   "metadata": {},
   "outputs": [],
   "source": [
    "l_clear.clear()"
   ]
  },
  {
   "cell_type": "code",
   "execution_count": 87,
   "id": "1758edee",
   "metadata": {},
   "outputs": [
    {
     "data": {
      "text/plain": [
       "[]"
      ]
     },
     "execution_count": 87,
     "metadata": {},
     "output_type": "execute_result"
    }
   ],
   "source": [
    "l_clear"
   ]
  },
  {
   "cell_type": "code",
   "execution_count": 88,
   "id": "127fc3f6",
   "metadata": {},
   "outputs": [],
   "source": [
    "l_del = [1,2,3,4,'raj','delete']"
   ]
  },
  {
   "cell_type": "code",
   "execution_count": 94,
   "id": "4d40fa57",
   "metadata": {},
   "outputs": [],
   "source": [
    "del l_del[2]"
   ]
  },
  {
   "cell_type": "code",
   "execution_count": 95,
   "id": "fb6325ca",
   "metadata": {},
   "outputs": [
    {
     "data": {
      "text/plain": [
       "[1, 2, 4, 'raj', 'delete']"
      ]
     },
     "execution_count": 95,
     "metadata": {},
     "output_type": "execute_result"
    }
   ],
   "source": [
    "l_del"
   ]
  },
  {
   "cell_type": "code",
   "execution_count": 97,
   "id": "14e108c9",
   "metadata": {},
   "outputs": [],
   "source": [
    "del l_del [1:]"
   ]
  },
  {
   "cell_type": "code",
   "execution_count": 98,
   "id": "02251892",
   "metadata": {},
   "outputs": [
    {
     "data": {
      "text/plain": [
       "[1]"
      ]
     },
     "execution_count": 98,
     "metadata": {},
     "output_type": "execute_result"
    }
   ],
   "source": [
    "l_del"
   ]
  },
  {
   "cell_type": "code",
   "execution_count": 99,
   "id": "5d72e75c",
   "metadata": {},
   "outputs": [],
   "source": [
    "del l_del"
   ]
  },
  {
   "cell_type": "code",
   "execution_count": 100,
   "id": "3529df06",
   "metadata": {},
   "outputs": [
    {
     "ename": "NameError",
     "evalue": "name 'l_del' is not defined",
     "output_type": "error",
     "traceback": [
      "\u001b[0;31m---------------------------------------------------------------------------\u001b[0m",
      "\u001b[0;31mNameError\u001b[0m                                 Traceback (most recent call last)",
      "\u001b[0;32m<ipython-input-100-3e85047e0399>\u001b[0m in \u001b[0;36m<module>\u001b[0;34m\u001b[0m\n\u001b[0;32m----> 1\u001b[0;31m \u001b[0ml_del\u001b[0m\u001b[0;34m\u001b[0m\u001b[0;34m\u001b[0m\u001b[0m\n\u001b[0m",
      "\u001b[0;31mNameError\u001b[0m: name 'l_del' is not defined"
     ]
    }
   ],
   "source": [
    "l_del"
   ]
  },
  {
   "cell_type": "code",
   "execution_count": 101,
   "id": "9bbea1dc",
   "metadata": {},
   "outputs": [],
   "source": [
    "l_cnt = [1,2,3,4,6,7,1,2,4,1,2,4,'raj','srava','raj']"
   ]
  },
  {
   "cell_type": "code",
   "execution_count": 102,
   "id": "037dfdcf",
   "metadata": {},
   "outputs": [
    {
     "data": {
      "text/plain": [
       "3"
      ]
     },
     "execution_count": 102,
     "metadata": {},
     "output_type": "execute_result"
    }
   ],
   "source": [
    "l_cnt.count(2)"
   ]
  },
  {
   "cell_type": "code",
   "execution_count": 105,
   "id": "fcc28013",
   "metadata": {},
   "outputs": [
    {
     "data": {
      "text/plain": [
       "2"
      ]
     },
     "execution_count": 105,
     "metadata": {},
     "output_type": "execute_result"
    }
   ],
   "source": [
    "l_cnt.count('raj')"
   ]
  },
  {
   "cell_type": "code",
   "execution_count": 106,
   "id": "9369aac5",
   "metadata": {},
   "outputs": [
    {
     "data": {
      "text/plain": [
       "0"
      ]
     },
     "execution_count": 106,
     "metadata": {},
     "output_type": "execute_result"
    }
   ],
   "source": [
    "l_cnt.count('55')"
   ]
  },
  {
   "cell_type": "code",
   "execution_count": 111,
   "id": "1ae7b78e",
   "metadata": {},
   "outputs": [],
   "source": [
    "l_rev = [1,2,3,4,'Raj','Sravanthi']"
   ]
  },
  {
   "cell_type": "code",
   "execution_count": 114,
   "id": "9d6da3d3",
   "metadata": {},
   "outputs": [
    {
     "data": {
      "text/plain": [
       "140661074790920"
      ]
     },
     "execution_count": 114,
     "metadata": {},
     "output_type": "execute_result"
    }
   ],
   "source": [
    "id(l_rev)"
   ]
  },
  {
   "cell_type": "code",
   "execution_count": 112,
   "id": "34e3d2cf",
   "metadata": {},
   "outputs": [],
   "source": [
    "l_rev.reverse()"
   ]
  },
  {
   "cell_type": "code",
   "execution_count": 113,
   "id": "e12e3447",
   "metadata": {},
   "outputs": [
    {
     "data": {
      "text/plain": [
       "['Sravanthi', 'Raj', 4, 3, 2, 1]"
      ]
     },
     "execution_count": 113,
     "metadata": {},
     "output_type": "execute_result"
    }
   ],
   "source": [
    "l_rev"
   ]
  },
  {
   "cell_type": "code",
   "execution_count": 115,
   "id": "79b321b3",
   "metadata": {},
   "outputs": [
    {
     "data": {
      "text/plain": [
       "140661074790920"
      ]
     },
     "execution_count": 115,
     "metadata": {},
     "output_type": "execute_result"
    }
   ],
   "source": [
    "id(l_rev)"
   ]
  },
  {
   "cell_type": "code",
   "execution_count": 116,
   "id": "2609f571",
   "metadata": {},
   "outputs": [],
   "source": [
    "list_1 = [12,32,44,24,20]"
   ]
  },
  {
   "cell_type": "code",
   "execution_count": 117,
   "id": "f00a3d04",
   "metadata": {},
   "outputs": [],
   "source": [
    "list_1.sort()\n"
   ]
  },
  {
   "cell_type": "code",
   "execution_count": 118,
   "id": "d4c70190",
   "metadata": {},
   "outputs": [
    {
     "data": {
      "text/plain": [
       "[12, 20, 24, 32, 44]"
      ]
     },
     "execution_count": 118,
     "metadata": {},
     "output_type": "execute_result"
    }
   ],
   "source": [
    "list_1"
   ]
  },
  {
   "cell_type": "code",
   "execution_count": 119,
   "id": "f1a5c178",
   "metadata": {},
   "outputs": [],
   "source": [
    "#Descending\n",
    "list_1.sort(reverse=True)"
   ]
  },
  {
   "cell_type": "code",
   "execution_count": 120,
   "id": "774c95e7",
   "metadata": {},
   "outputs": [
    {
     "data": {
      "text/plain": [
       "[44, 32, 24, 20, 12]"
      ]
     },
     "execution_count": 120,
     "metadata": {},
     "output_type": "execute_result"
    }
   ],
   "source": [
    "list_1"
   ]
  },
  {
   "cell_type": "code",
   "execution_count": 122,
   "id": "4b67c094",
   "metadata": {},
   "outputs": [],
   "source": [
    "lst_sorted = sorted(list_1)"
   ]
  },
  {
   "cell_type": "code",
   "execution_count": 123,
   "id": "69d83a52",
   "metadata": {},
   "outputs": [
    {
     "data": {
      "text/plain": [
       "[12, 20, 24, 32, 44]"
      ]
     },
     "execution_count": 123,
     "metadata": {},
     "output_type": "execute_result"
    }
   ],
   "source": [
    "lst_sorted"
   ]
  },
  {
   "cell_type": "code",
   "execution_count": 124,
   "id": "c76f0da0",
   "metadata": {},
   "outputs": [],
   "source": [
    "lst_sorted = sorted(list_1,reverse=True)"
   ]
  },
  {
   "cell_type": "code",
   "execution_count": 125,
   "id": "c579647c",
   "metadata": {},
   "outputs": [
    {
     "data": {
      "text/plain": [
       "[44, 32, 24, 20, 12]"
      ]
     },
     "execution_count": 125,
     "metadata": {},
     "output_type": "execute_result"
    }
   ],
   "source": [
    "lst_sorted"
   ]
  },
  {
   "cell_type": "code",
   "execution_count": 126,
   "id": "7f31685d",
   "metadata": {},
   "outputs": [],
   "source": [
    "#MIN\n",
    "l_min = [1,4,5,7,8]"
   ]
  },
  {
   "cell_type": "code",
   "execution_count": 129,
   "id": "3fdd1e03",
   "metadata": {},
   "outputs": [
    {
     "data": {
      "text/plain": [
       "1"
      ]
     },
     "execution_count": 129,
     "metadata": {},
     "output_type": "execute_result"
    }
   ],
   "source": [
    "min(l_min)"
   ]
  },
  {
   "cell_type": "code",
   "execution_count": 130,
   "id": "4b1ecaec",
   "metadata": {},
   "outputs": [
    {
     "data": {
      "text/plain": [
       "8"
      ]
     },
     "execution_count": 130,
     "metadata": {},
     "output_type": "execute_result"
    }
   ],
   "source": [
    "max(l_min)"
   ]
  },
  {
   "cell_type": "code",
   "execution_count": 131,
   "id": "973a4147",
   "metadata": {},
   "outputs": [
    {
     "data": {
      "text/plain": [
       "25"
      ]
     },
     "execution_count": 131,
     "metadata": {},
     "output_type": "execute_result"
    }
   ],
   "source": [
    "sum(l_min)"
   ]
  },
  {
   "cell_type": "code",
   "execution_count": 152,
   "id": "d7276958",
   "metadata": {},
   "outputs": [],
   "source": [
    "food = ['chips', 'chicken', 'fruits', 'veggies', 'bread', 'butter']\n",
    "bathroom = ['shampoo','soap']"
   ]
  },
  {
   "cell_type": "code",
   "execution_count": 153,
   "id": "57ff25fb",
   "metadata": {},
   "outputs": [],
   "source": [
    "myitems = food+bathroom"
   ]
  },
  {
   "cell_type": "code",
   "execution_count": 154,
   "id": "a1c18d21",
   "metadata": {},
   "outputs": [
    {
     "data": {
      "text/plain": [
       "['chips', 'chicken', 'fruits', 'veggies', 'bread', 'butter', 'shampoo', 'soap']"
      ]
     },
     "execution_count": 154,
     "metadata": {},
     "output_type": "execute_result"
    }
   ],
   "source": [
    "myitems"
   ]
  },
  {
   "cell_type": "code",
   "execution_count": 156,
   "id": "06b1d3ea",
   "metadata": {},
   "outputs": [
    {
     "data": {
      "text/plain": [
       "['chips',\n",
       " 'chicken',\n",
       " 'fruits',\n",
       " 'veggies',\n",
       " 'bread',\n",
       " 'butter',\n",
       " 'chips',\n",
       " 'chicken',\n",
       " 'fruits',\n",
       " 'veggies',\n",
       " 'bread',\n",
       " 'butter',\n",
       " 'chips',\n",
       " 'chicken',\n",
       " 'fruits',\n",
       " 'veggies',\n",
       " 'bread',\n",
       " 'butter']"
      ]
     },
     "execution_count": 156,
     "metadata": {},
     "output_type": "execute_result"
    }
   ],
   "source": [
    "food*3"
   ]
  },
  {
   "cell_type": "code",
   "execution_count": null,
   "id": "76f6fc08",
   "metadata": {},
   "outputs": [],
   "source": [
    "myitems1"
   ]
  },
  {
   "cell_type": "code",
   "execution_count": 31,
   "id": "930fa61d",
   "metadata": {},
   "outputs": [
    {
     "ename": "TypeError",
     "evalue": "can only concatenate list (not \"str\") to list",
     "output_type": "error",
     "traceback": [
      "\u001b[0;31m---------------------------------------------------------------------------\u001b[0m",
      "\u001b[0;31mTypeError\u001b[0m                                 Traceback (most recent call last)",
      "\u001b[0;32m<ipython-input-31-05e28996c5e0>\u001b[0m in \u001b[0;36m<module>\u001b[0;34m\u001b[0m\n\u001b[0;32m----> 1\u001b[0;31m \u001b[0mfood\u001b[0m\u001b[0;34m+\u001b[0m\u001b[0;34m\"soda\"\u001b[0m\u001b[0;34m\u001b[0m\u001b[0;34m\u001b[0m\u001b[0m\n\u001b[0m",
      "\u001b[0;31mTypeError\u001b[0m: can only concatenate list (not \"str\") to list"
     ]
    }
   ],
   "source": [
    "food+\"soda\""
   ]
  },
  {
   "cell_type": "code",
   "execution_count": 32,
   "id": "69dc0d64",
   "metadata": {},
   "outputs": [
    {
     "data": {
      "text/plain": [
       "8"
      ]
     },
     "execution_count": 32,
     "metadata": {},
     "output_type": "execute_result"
    }
   ],
   "source": [
    "len(myitems)"
   ]
  },
  {
   "cell_type": "code",
   "execution_count": 34,
   "id": "cb3210e3",
   "metadata": {},
   "outputs": [
    {
     "data": {
      "text/plain": [
       "True"
      ]
     },
     "execution_count": 34,
     "metadata": {},
     "output_type": "execute_result"
    }
   ],
   "source": [
    "'bread' in myitems"
   ]
  },
  {
   "cell_type": "code",
   "execution_count": 35,
   "id": "e6b2d59e",
   "metadata": {},
   "outputs": [
    {
     "data": {
      "text/plain": [
       "False"
      ]
     },
     "execution_count": 35,
     "metadata": {},
     "output_type": "execute_result"
    }
   ],
   "source": [
    "'soda' in myitems"
   ]
  },
  {
   "cell_type": "code",
   "execution_count": 36,
   "id": "1c1a9f31",
   "metadata": {},
   "outputs": [],
   "source": [
    "# Different operations that can be performed in a list\n",
    "list_1 = [12,32,44,24,20]"
   ]
  },
  {
   "cell_type": "code",
   "execution_count": 37,
   "id": "42ec0a77",
   "metadata": {},
   "outputs": [],
   "source": [
    "list_1.sort()\n"
   ]
  },
  {
   "cell_type": "code",
   "execution_count": 38,
   "id": "358dd607",
   "metadata": {},
   "outputs": [
    {
     "data": {
      "text/plain": [
       "[12, 20, 24, 32, 44]"
      ]
     },
     "execution_count": 38,
     "metadata": {},
     "output_type": "execute_result"
    }
   ],
   "source": [
    "list_1"
   ]
  },
  {
   "cell_type": "code",
   "execution_count": 39,
   "id": "f75836b6",
   "metadata": {},
   "outputs": [
    {
     "name": "stdout",
     "output_type": "stream",
     "text": [
      "[12, 20, 24, 32, 44]\n"
     ]
    }
   ],
   "source": [
    "print(list_1)"
   ]
  },
  {
   "cell_type": "code",
   "execution_count": 40,
   "id": "92a503f6",
   "metadata": {},
   "outputs": [],
   "source": [
    "#Descending\n",
    "list_1.sort(reverse=True)"
   ]
  },
  {
   "cell_type": "code",
   "execution_count": 41,
   "id": "1b5357a7",
   "metadata": {},
   "outputs": [
    {
     "data": {
      "text/plain": [
       "[44, 32, 24, 20, 12]"
      ]
     },
     "execution_count": 41,
     "metadata": {},
     "output_type": "execute_result"
    }
   ],
   "source": [
    "list_1"
   ]
  },
  {
   "cell_type": "code",
   "execution_count": 44,
   "id": "c2f195a8",
   "metadata": {},
   "outputs": [],
   "source": [
    "list_nested=[1,2,3,4,[1,'raj'],5,'Total']"
   ]
  },
  {
   "cell_type": "code",
   "execution_count": 45,
   "id": "2e3e0ef5",
   "metadata": {},
   "outputs": [
    {
     "data": {
      "text/plain": [
       "7"
      ]
     },
     "execution_count": 45,
     "metadata": {},
     "output_type": "execute_result"
    }
   ],
   "source": [
    "len(list_nested)"
   ]
  },
  {
   "cell_type": "code",
   "execution_count": 46,
   "id": "2583ee3b",
   "metadata": {},
   "outputs": [
    {
     "data": {
      "text/plain": [
       "[1, 'raj']"
      ]
     },
     "execution_count": 46,
     "metadata": {},
     "output_type": "execute_result"
    }
   ],
   "source": [
    "list_nested[4]"
   ]
  },
  {
   "cell_type": "code",
   "execution_count": 47,
   "id": "c2b27477",
   "metadata": {},
   "outputs": [
    {
     "data": {
      "text/plain": [
       "'raj'"
      ]
     },
     "execution_count": 47,
     "metadata": {},
     "output_type": "execute_result"
    }
   ],
   "source": [
    "list_nested[4][1]"
   ]
  },
  {
   "cell_type": "code",
   "execution_count": null,
   "id": "528449a6",
   "metadata": {},
   "outputs": [],
   "source": [
    "# convert dictionary into list\n",
    "# When we convert dict into list then on keys will be part of list\n",
    "d = {1:'one',2:'Raj',3:\"three}"
   ]
  },
  {
   "cell_type": "code",
   "execution_count": null,
   "id": "54e3fdd9",
   "metadata": {},
   "outputs": [],
   "source": [
    "lst_dct = list(d)"
   ]
  },
  {
   "cell_type": "code",
   "execution_count": null,
   "id": "838174ab",
   "metadata": {},
   "outputs": [],
   "source": [
    "lst_dct"
   ]
  },
  {
   "cell_type": "markdown",
   "id": "1fd9438b",
   "metadata": {},
   "source": [
    "# List slicing "
   ]
  },
  {
   "cell_type": "markdown",
   "id": "b65a4edb",
   "metadata": {},
   "source": [
    "##### List slics are the subparts of a list extracted out. We can use indexes to create list of slices.list slicing will return will list\n",
    "### seq = l[start:stop]\n",
    "##### List also supports slice steps. I.e if we want to extarct non consesctive but every other element in the list\n",
    "### seq = l[start:stop:step]    \n",
    "##### By default step value is 1\n",
    "## l_step[::-1]   this will reverse the list\n"
   ]
  },
  {
   "cell_type": "markdown",
   "id": "3faf3796",
   "metadata": {},
   "source": [
    "l=[1,2,4,'Raj','srav']"
   ]
  },
  {
   "cell_type": "code",
   "execution_count": 11,
   "id": "02fcba02",
   "metadata": {},
   "outputs": [],
   "source": [
    "l1 = l[1:-1]"
   ]
  },
  {
   "cell_type": "code",
   "execution_count": 12,
   "id": "47b8dae0",
   "metadata": {},
   "outputs": [
    {
     "data": {
      "text/plain": [
       "[2, 4, 'Raj']"
      ]
     },
     "execution_count": 12,
     "metadata": {},
     "output_type": "execute_result"
    }
   ],
   "source": [
    "l1"
   ]
  },
  {
   "cell_type": "code",
   "execution_count": 6,
   "id": "1036468e",
   "metadata": {},
   "outputs": [
    {
     "data": {
      "text/plain": [
       "[2, 4, 'Raj', 'srav']"
      ]
     },
     "execution_count": 6,
     "metadata": {},
     "output_type": "execute_result"
    }
   ],
   "source": [
    "l[1:30]"
   ]
  },
  {
   "cell_type": "code",
   "execution_count": 7,
   "id": "8b6221a1",
   "metadata": {},
   "outputs": [
    {
     "data": {
      "text/plain": [
       "[1, 2]"
      ]
     },
     "execution_count": 7,
     "metadata": {},
     "output_type": "execute_result"
    }
   ],
   "source": [
    "l[-9:2]"
   ]
  },
  {
   "cell_type": "code",
   "execution_count": 19,
   "id": "1409801c",
   "metadata": {},
   "outputs": [],
   "source": [
    "l_step = [1,3,4,6,8,12,34,56,'raj','srav','nanai','joshw','Kura']"
   ]
  },
  {
   "cell_type": "code",
   "execution_count": 18,
   "id": "5052b547",
   "metadata": {},
   "outputs": [
    {
     "data": {
      "text/plain": [
       "[3, 6, 12, 56]"
      ]
     },
     "execution_count": 18,
     "metadata": {},
     "output_type": "execute_result"
    }
   ],
   "source": [
    "l_step[1:8:2]"
   ]
  },
  {
   "cell_type": "code",
   "execution_count": 20,
   "id": "85dc79a9",
   "metadata": {},
   "outputs": [
    {
     "data": {
      "text/plain": [
       "[1, 8, 'raj', 'Kura']"
      ]
     },
     "execution_count": 20,
     "metadata": {},
     "output_type": "execute_result"
    }
   ],
   "source": [
    "l_step[::4]"
   ]
  },
  {
   "cell_type": "code",
   "execution_count": 21,
   "id": "f69b5112",
   "metadata": {},
   "outputs": [
    {
     "data": {
      "text/plain": [
       "['Kura', 'joshw', 'nanai', 'srav', 'raj', 56, 34, 12, 8, 6, 4, 3, 1]"
      ]
     },
     "execution_count": 21,
     "metadata": {},
     "output_type": "execute_result"
    }
   ],
   "source": [
    "l_step[::-1]"
   ]
  },
  {
   "cell_type": "code",
   "execution_count": 22,
   "id": "e924cbd7",
   "metadata": {},
   "outputs": [],
   "source": [
    "l_step[0:2] = [\"new\",\"value\"]"
   ]
  },
  {
   "cell_type": "code",
   "execution_count": 23,
   "id": "e33f4aed",
   "metadata": {},
   "outputs": [
    {
     "data": {
      "text/plain": [
       "['new', 'value', 4, 6, 8, 12, 34, 56, 'raj', 'srav', 'nanai', 'joshw', 'Kura']"
      ]
     },
     "execution_count": 23,
     "metadata": {},
     "output_type": "execute_result"
    }
   ],
   "source": [
    "l_step"
   ]
  },
  {
   "cell_type": "code",
   "execution_count": 24,
   "id": "c6403688",
   "metadata": {},
   "outputs": [],
   "source": [
    "l = [11,22,33]"
   ]
  },
  {
   "cell_type": "code",
   "execution_count": 25,
   "id": "36cf863c",
   "metadata": {},
   "outputs": [],
   "source": [
    "l[1:2] = 'Python'"
   ]
  },
  {
   "cell_type": "code",
   "execution_count": 26,
   "id": "01ad2f6e",
   "metadata": {},
   "outputs": [
    {
     "data": {
      "text/plain": [
       "[11, 'P', 'y', 't', 'h', 'o', 'n', 33]"
      ]
     },
     "execution_count": 26,
     "metadata": {},
     "output_type": "execute_result"
    }
   ],
   "source": [
    "l"
   ]
  },
  {
   "cell_type": "code",
   "execution_count": 28,
   "id": "8bb8c65c",
   "metadata": {},
   "outputs": [],
   "source": [
    "l_nest = [1,2,3,4,['raj','srava'],'suman']"
   ]
  },
  {
   "cell_type": "code",
   "execution_count": 29,
   "id": "95d49545",
   "metadata": {},
   "outputs": [
    {
     "data": {
      "text/plain": [
       "['raj', 'srava']"
      ]
     },
     "execution_count": 29,
     "metadata": {},
     "output_type": "execute_result"
    }
   ],
   "source": [
    "l_nest[4]"
   ]
  },
  {
   "cell_type": "code",
   "execution_count": 30,
   "id": "70886b02",
   "metadata": {},
   "outputs": [
    {
     "data": {
      "text/plain": [
       "'srava'"
      ]
     },
     "execution_count": 30,
     "metadata": {},
     "output_type": "execute_result"
    }
   ],
   "source": [
    "l_nest[4][1]"
   ]
  },
  {
   "cell_type": "code",
   "execution_count": 32,
   "id": "e1b3c48c",
   "metadata": {},
   "outputs": [
    {
     "data": {
      "text/plain": [
       "[['raj', 'srava']]"
      ]
     },
     "execution_count": 32,
     "metadata": {},
     "output_type": "execute_result"
    }
   ],
   "source": [
    "l_nest[4:5]"
   ]
  },
  {
   "cell_type": "code",
   "execution_count": 33,
   "id": "d9dd6204",
   "metadata": {},
   "outputs": [
    {
     "data": {
      "text/plain": [
       "['raj', 'srava']"
      ]
     },
     "execution_count": 33,
     "metadata": {},
     "output_type": "execute_result"
    }
   ],
   "source": [
    "l_nest[4:5][0]"
   ]
  },
  {
   "cell_type": "code",
   "execution_count": 34,
   "id": "3fdc395d",
   "metadata": {},
   "outputs": [
    {
     "data": {
      "text/plain": [
       "'raj'"
      ]
     },
     "execution_count": 34,
     "metadata": {},
     "output_type": "execute_result"
    }
   ],
   "source": [
    "l_nest[4:5][0][0]"
   ]
  },
  {
   "cell_type": "code",
   "execution_count": 35,
   "id": "91cb5660",
   "metadata": {},
   "outputs": [
    {
     "data": {
      "text/plain": [
       "'Py'"
      ]
     },
     "execution_count": 35,
     "metadata": {},
     "output_type": "execute_result"
    }
   ],
   "source": [
    "l[1]+l[2]"
   ]
  },
  {
   "cell_type": "code",
   "execution_count": 37,
   "id": "8f2879f4",
   "metadata": {},
   "outputs": [
    {
     "ename": "TypeError",
     "evalue": "can only concatenate list (not \"int\") to list",
     "output_type": "error",
     "traceback": [
      "\u001b[0;31m---------------------------------------------------------------------------\u001b[0m",
      "\u001b[0;31mTypeError\u001b[0m                                 Traceback (most recent call last)",
      "\u001b[0;32m<ipython-input-37-99cabd5825ad>\u001b[0m in \u001b[0;36m<module>\u001b[0;34m\u001b[0m\n\u001b[0;32m----> 1\u001b[0;31m \u001b[0ml_nest\u001b[0m\u001b[0;34m[\u001b[0m\u001b[0;36m4\u001b[0m\u001b[0;34m]\u001b[0m\u001b[0;34m+\u001b[0m\u001b[0ml_nest\u001b[0m\u001b[0;34m[\u001b[0m\u001b[0;36m2\u001b[0m\u001b[0;34m]\u001b[0m\u001b[0;34m\u001b[0m\u001b[0;34m\u001b[0m\u001b[0m\n\u001b[0m",
      "\u001b[0;31mTypeError\u001b[0m: can only concatenate list (not \"int\") to list"
     ]
    }
   ],
   "source": [
    "l_nest[4]+l_nest[2]"
   ]
  },
  {
   "cell_type": "code",
   "execution_count": 38,
   "id": "c15af74a",
   "metadata": {},
   "outputs": [
    {
     "data": {
      "text/plain": [
       "['raj', 'srava', 3]"
      ]
     },
     "execution_count": 38,
     "metadata": {},
     "output_type": "execute_result"
    }
   ],
   "source": [
    "l_nest[4]+[l_nest[2]]"
   ]
  },
  {
   "cell_type": "code",
   "execution_count": null,
   "id": "222105c0",
   "metadata": {},
   "outputs": [],
   "source": [
    "lst=[1,2,3,4]"
   ]
  },
  {
   "cell_type": "code",
   "execution_count": null,
   "id": "8aac4376",
   "metadata": {},
   "outputs": [],
   "source": [
    "lst"
   ]
  },
  {
   "cell_type": "code",
   "execution_count": null,
   "id": "5ef0b3c4",
   "metadata": {},
   "outputs": [],
   "source": []
  }
 ],
 "metadata": {
  "kernelspec": {
   "display_name": "Python 3",
   "language": "python",
   "name": "python3"
  },
  "language_info": {
   "codemirror_mode": {
    "name": "ipython",
    "version": 3
   },
   "file_extension": ".py",
   "mimetype": "text/x-python",
   "name": "python",
   "nbconvert_exporter": "python",
   "pygments_lexer": "ipython3",
   "version": "3.6.12"
  }
 },
 "nbformat": 4,
 "nbformat_minor": 5
}
