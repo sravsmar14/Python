{
 "cells": [
  {
   "cell_type": "markdown",
   "id": "5d423b87",
   "metadata": {},
   "source": [
    "# TUPLES:\n",
    "##### TUPLES are sequence that are used to store a tuple of value of any type. Tuples are IMMUTABLE.Tuples are represented in (). if we assign more than one value to variable then it will become TUPLE\n",
    "##### To construct a tuple with one element,just add a comma (,) after the single element\n",
    "##### Python creates the individual elements of the tuple from the individual elements of passed sequence \n",
    "##### EVAL. used to take input from the user\n",
    "##### tuple(), it will create a tuple using individual characters as elements\n",
    "## Accessing elements in Tuple\n",
    "##### Elements in tuple can be retrieved using indexes.We should use forward/backward indexing.\n",
    "## Similarity with Strings and list\n",
    "##### len() , indexing and slicing , membership operators (in and not in) , concatenation and replication operators + &  *\n",
    "##### We cannot delete single element from tuple whereas we can delete entire tuple using del statement\n",
    "##### Forming a Tuple from individual values are called packing and creating individual values from a tuples element is called unpacking\n",
    "##### In the list all the values are having same meaning (homogenous) whereas in Tuple all the values have different meaning(heterogenous)"
   ]
  },
  {
   "cell_type": "code",
   "execution_count": 3,
   "id": "ce60bc61",
   "metadata": {},
   "outputs": [],
   "source": [
    "tup=(1,2,2.5,'Raj','Josh','Sravs')"
   ]
  },
  {
   "cell_type": "code",
   "execution_count": 4,
   "id": "cb72a846",
   "metadata": {},
   "outputs": [
    {
     "data": {
      "text/plain": [
       "(1, 2, 2.5, 'Raj', 'Josh', 'Sravs')"
      ]
     },
     "execution_count": 4,
     "metadata": {},
     "output_type": "execute_result"
    }
   ],
   "source": [
    "tup"
   ]
  },
  {
   "cell_type": "code",
   "execution_count": 8,
   "id": "28b39bd2",
   "metadata": {},
   "outputs": [
    {
     "data": {
      "text/plain": [
       "1"
      ]
     },
     "execution_count": 8,
     "metadata": {},
     "output_type": "execute_result"
    }
   ],
   "source": [
    "tup[0]"
   ]
  },
  {
   "cell_type": "code",
   "execution_count": 9,
   "id": "15652792",
   "metadata": {},
   "outputs": [
    {
     "data": {
      "text/plain": [
       "(1, 2)"
      ]
     },
     "execution_count": 9,
     "metadata": {},
     "output_type": "execute_result"
    }
   ],
   "source": [
    "tup[0:2]"
   ]
  },
  {
   "cell_type": "code",
   "execution_count": 10,
   "id": "53da433c",
   "metadata": {},
   "outputs": [],
   "source": [
    "a,b,c=2,4,6"
   ]
  },
  {
   "cell_type": "code",
   "execution_count": 11,
   "id": "0fb13b00",
   "metadata": {},
   "outputs": [],
   "source": [
    "a=3,4,6"
   ]
  },
  {
   "cell_type": "code",
   "execution_count": 12,
   "id": "693e283b",
   "metadata": {},
   "outputs": [
    {
     "data": {
      "text/plain": [
       "(3, 4, 6)"
      ]
     },
     "execution_count": 12,
     "metadata": {},
     "output_type": "execute_result"
    }
   ],
   "source": [
    "a"
   ]
  },
  {
   "cell_type": "code",
   "execution_count": 13,
   "id": "dbcfc409",
   "metadata": {},
   "outputs": [
    {
     "data": {
      "text/plain": [
       "tuple"
      ]
     },
     "execution_count": 13,
     "metadata": {},
     "output_type": "execute_result"
    }
   ],
   "source": [
    "type(a)"
   ]
  },
  {
   "cell_type": "code",
   "execution_count": 15,
   "id": "76ccf72a",
   "metadata": {},
   "outputs": [
    {
     "ename": "TypeError",
     "evalue": "'tuple' object does not support item assignment",
     "output_type": "error",
     "traceback": [
      "\u001b[0;31m---------------------------------------------------------------------------\u001b[0m",
      "\u001b[0;31mTypeError\u001b[0m                                 Traceback (most recent call last)",
      "\u001b[0;32m<ipython-input-15-ce7c2d95e153>\u001b[0m in \u001b[0;36m<module>\u001b[0;34m\u001b[0m\n\u001b[0;32m----> 1\u001b[0;31m \u001b[0mtup\u001b[0m\u001b[0;34m[\u001b[0m\u001b[0;36m0\u001b[0m\u001b[0;34m]\u001b[0m\u001b[0;34m=\u001b[0m\u001b[0;36m23\u001b[0m\u001b[0;34m\u001b[0m\u001b[0;34m\u001b[0m\u001b[0m\n\u001b[0m",
      "\u001b[0;31mTypeError\u001b[0m: 'tuple' object does not support item assignment"
     ]
    }
   ],
   "source": [
    "tup[0]=23"
   ]
  },
  {
   "cell_type": "code",
   "execution_count": 16,
   "id": "f35aff89",
   "metadata": {},
   "outputs": [],
   "source": [
    "#empty tuple\n",
    "t = tuple()"
   ]
  },
  {
   "cell_type": "code",
   "execution_count": 17,
   "id": "5856d64a",
   "metadata": {},
   "outputs": [
    {
     "data": {
      "text/plain": [
       "0"
      ]
     },
     "execution_count": 17,
     "metadata": {},
     "output_type": "execute_result"
    }
   ],
   "source": [
    "len(t)"
   ]
  },
  {
   "cell_type": "code",
   "execution_count": 18,
   "id": "90edd609",
   "metadata": {},
   "outputs": [
    {
     "data": {
      "text/plain": [
       "6"
      ]
     },
     "execution_count": 18,
     "metadata": {},
     "output_type": "execute_result"
    }
   ],
   "source": [
    "len(tup)"
   ]
  },
  {
   "cell_type": "code",
   "execution_count": 19,
   "id": "b694045d",
   "metadata": {},
   "outputs": [],
   "source": [
    "T=3,"
   ]
  },
  {
   "cell_type": "code",
   "execution_count": 20,
   "id": "26bc4fa3",
   "metadata": {},
   "outputs": [
    {
     "data": {
      "text/plain": [
       "tuple"
      ]
     },
     "execution_count": 20,
     "metadata": {},
     "output_type": "execute_result"
    }
   ],
   "source": [
    "type(T)"
   ]
  },
  {
   "cell_type": "code",
   "execution_count": 21,
   "id": "3f35af24",
   "metadata": {},
   "outputs": [],
   "source": [
    "T1 = (5,3)"
   ]
  },
  {
   "cell_type": "code",
   "execution_count": 22,
   "id": "aa185447",
   "metadata": {},
   "outputs": [
    {
     "data": {
      "text/plain": [
       "tuple"
      ]
     },
     "execution_count": 22,
     "metadata": {},
     "output_type": "execute_result"
    }
   ],
   "source": [
    "type(T1)"
   ]
  },
  {
   "cell_type": "code",
   "execution_count": 26,
   "id": "9f0df81a",
   "metadata": {},
   "outputs": [],
   "source": [
    "#nested tuple\n",
    "nest_tup = (1,2,'Raj','Sravanthi',(1,\"Joshwik\"))"
   ]
  },
  {
   "cell_type": "code",
   "execution_count": 29,
   "id": "875f7e10",
   "metadata": {},
   "outputs": [
    {
     "data": {
      "text/plain": [
       "'Joshwik'"
      ]
     },
     "execution_count": 29,
     "metadata": {},
     "output_type": "execute_result"
    }
   ],
   "source": [
    "nest_tup[4][1]"
   ]
  },
  {
   "cell_type": "code",
   "execution_count": 1,
   "id": "01e1b317",
   "metadata": {},
   "outputs": [
    {
     "data": {
      "text/plain": [
       "(1, 2, 3, 4)"
      ]
     },
     "execution_count": 1,
     "metadata": {},
     "output_type": "execute_result"
    }
   ],
   "source": [
    "tuple([1,2,3,4])"
   ]
  },
  {
   "cell_type": "code",
   "execution_count": 33,
   "id": "5d3584b3",
   "metadata": {},
   "outputs": [
    {
     "data": {
      "text/plain": [
       "('R', 'a', 'j', 'a', 's', 'e', 'k', 'h', 'a', 'r')"
      ]
     },
     "execution_count": 33,
     "metadata": {},
     "output_type": "execute_result"
    }
   ],
   "source": [
    "tuple(\"Rajasekhar\")"
   ]
  },
  {
   "cell_type": "code",
   "execution_count": 36,
   "id": "85e3e0ae",
   "metadata": {},
   "outputs": [
    {
     "ename": "TypeError",
     "evalue": "tuple() takes at most 1 argument (3 given)",
     "output_type": "error",
     "traceback": [
      "\u001b[0;31m---------------------------------------------------------------------------\u001b[0m",
      "\u001b[0;31mTypeError\u001b[0m                                 Traceback (most recent call last)",
      "\u001b[0;32m<ipython-input-36-f866586470d8>\u001b[0m in \u001b[0;36m<module>\u001b[0;34m\u001b[0m\n\u001b[0;32m----> 1\u001b[0;31m \u001b[0mtuple\u001b[0m\u001b[0;34m(\u001b[0m\u001b[0;34m\"raj\"\u001b[0m\u001b[0;34m,\u001b[0m\u001b[0;34m\"sravanthi\"\u001b[0m\u001b[0;34m,\u001b[0m\u001b[0;34m\"Joshwik\"\u001b[0m\u001b[0;34m)\u001b[0m\u001b[0;34m\u001b[0m\u001b[0;34m\u001b[0m\u001b[0m\n\u001b[0m",
      "\u001b[0;31mTypeError\u001b[0m: tuple() takes at most 1 argument (3 given)"
     ]
    }
   ],
   "source": [
    "tuple(\"raj\",\"sravanthi\",\"Joshwik\")"
   ]
  },
  {
   "cell_type": "code",
   "execution_count": null,
   "id": "1cd00571",
   "metadata": {},
   "outputs": [],
   "source": [
    "tuple([\"raj\",\"sravanthi\",\"Joshwik\"])"
   ]
  },
  {
   "cell_type": "code",
   "execution_count": 1,
   "id": "fce1ff8f",
   "metadata": {},
   "outputs": [
    {
     "data": {
      "text/plain": [
       "('raj', 'sravanthi', 'Joshwik')"
      ]
     },
     "execution_count": 1,
     "metadata": {},
     "output_type": "execute_result"
    }
   ],
   "source": [
    "tuple((\"raj\",\"sravanthi\",\"Joshwik\"))"
   ]
  },
  {
   "cell_type": "code",
   "execution_count": 2,
   "id": "74bfe5e9",
   "metadata": {},
   "outputs": [
    {
     "name": "stdin",
     "output_type": "stream",
     "text": [
      "Enter name: Rajasekhar\n"
     ]
    }
   ],
   "source": [
    "tupp = tuple(input(\"Enter name:\"))\n"
   ]
  },
  {
   "cell_type": "code",
   "execution_count": 1,
   "id": "5445d253",
   "metadata": {},
   "outputs": [],
   "source": [
    "tpeep = (1,2,3,4)"
   ]
  },
  {
   "cell_type": "code",
   "execution_count": 2,
   "id": "e56caa57",
   "metadata": {},
   "outputs": [],
   "source": [
    "#packing\n",
    "t = (11,2,3,45,66)"
   ]
  },
  {
   "cell_type": "code",
   "execution_count": 3,
   "id": "1f7d6ca2",
   "metadata": {},
   "outputs": [],
   "source": [
    "a,b,c,d,e=t"
   ]
  },
  {
   "cell_type": "code",
   "execution_count": 4,
   "id": "5d135e51",
   "metadata": {},
   "outputs": [
    {
     "data": {
      "text/plain": [
       "11"
      ]
     },
     "execution_count": 4,
     "metadata": {},
     "output_type": "execute_result"
    }
   ],
   "source": [
    "a"
   ]
  },
  {
   "cell_type": "code",
   "execution_count": 5,
   "id": "49c6079e",
   "metadata": {},
   "outputs": [
    {
     "data": {
      "text/plain": [
       "2"
      ]
     },
     "execution_count": 5,
     "metadata": {},
     "output_type": "execute_result"
    }
   ],
   "source": [
    "b"
   ]
  },
  {
   "cell_type": "markdown",
   "id": "76e45092",
   "metadata": {},
   "source": [
    "# How to modify tuples\n",
    "##### Tuples are immutable but we can modify tuples indirectly\n",
    "##### 1. Using Tuples unpacking   ---->   Unpack the tuple , change the value and then pack the tuple\n",
    "##### 1. Using the constructor functions of list() and tuple()   ----> convert tuple into list and then add eleement and then create list again"
   ]
  },
  {
   "cell_type": "code",
   "execution_count": 6,
   "id": "56ae3a92",
   "metadata": {},
   "outputs": [],
   "source": [
    "t = (11,2,3,45,66)"
   ]
  },
  {
   "cell_type": "code",
   "execution_count": 8,
   "id": "cfd6ad45",
   "metadata": {},
   "outputs": [],
   "source": [
    "a,b,c,d,e = t"
   ]
  },
  {
   "cell_type": "code",
   "execution_count": 9,
   "id": "6503f5c1",
   "metadata": {},
   "outputs": [
    {
     "data": {
      "text/plain": [
       "3"
      ]
     },
     "execution_count": 9,
     "metadata": {},
     "output_type": "execute_result"
    }
   ],
   "source": [
    "c"
   ]
  },
  {
   "cell_type": "code",
   "execution_count": 10,
   "id": "29aa4ef6",
   "metadata": {},
   "outputs": [],
   "source": [
    "c=100"
   ]
  },
  {
   "cell_type": "code",
   "execution_count": 11,
   "id": "8c919932",
   "metadata": {},
   "outputs": [
    {
     "data": {
      "text/plain": [
       "(11, 2, 3, 45, 66)"
      ]
     },
     "execution_count": 11,
     "metadata": {},
     "output_type": "execute_result"
    }
   ],
   "source": [
    "t"
   ]
  },
  {
   "cell_type": "code",
   "execution_count": 12,
   "id": "8028c734",
   "metadata": {},
   "outputs": [],
   "source": [
    "t = (a,b,c,d,e)"
   ]
  },
  {
   "cell_type": "code",
   "execution_count": 13,
   "id": "fc2b0461",
   "metadata": {},
   "outputs": [
    {
     "data": {
      "text/plain": [
       "(11, 2, 100, 45, 66)"
      ]
     },
     "execution_count": 13,
     "metadata": {},
     "output_type": "execute_result"
    }
   ],
   "source": [
    "t"
   ]
  },
  {
   "cell_type": "code",
   "execution_count": 14,
   "id": "e32a19b8",
   "metadata": {},
   "outputs": [],
   "source": [
    "# Second method\n",
    "t = (11,2,3,45,66)\n",
    "t = list(t)\n",
    "a"
   ]
  },
  {
   "cell_type": "code",
   "execution_count": 15,
   "id": "3ccca9cb",
   "metadata": {},
   "outputs": [
    {
     "data": {
      "text/plain": [
       "[11, 2, 3, 45, 66]"
      ]
     },
     "execution_count": 15,
     "metadata": {},
     "output_type": "execute_result"
    }
   ],
   "source": [
    "t"
   ]
  },
  {
   "cell_type": "code",
   "execution_count": 16,
   "id": "a32536b9",
   "metadata": {},
   "outputs": [],
   "source": [
    "t[2] = 'Raj'"
   ]
  },
  {
   "cell_type": "code",
   "execution_count": 17,
   "id": "2f26f9cd",
   "metadata": {},
   "outputs": [],
   "source": [
    "t = tuple(t)"
   ]
  },
  {
   "cell_type": "code",
   "execution_count": 18,
   "id": "d854599c",
   "metadata": {},
   "outputs": [
    {
     "data": {
      "text/plain": [
       "(11, 2, 'Raj', 45, 66)"
      ]
     },
     "execution_count": 18,
     "metadata": {},
     "output_type": "execute_result"
    }
   ],
   "source": [
    "t"
   ]
  },
  {
   "cell_type": "code",
   "execution_count": 28,
   "id": "ffa8f1ba",
   "metadata": {},
   "outputs": [],
   "source": [
    "T1 = ('raj','josh','sarv',30,2,28)"
   ]
  },
  {
   "cell_type": "code",
   "execution_count": 20,
   "id": "8267e6e3",
   "metadata": {},
   "outputs": [
    {
     "data": {
      "text/plain": [
       "6"
      ]
     },
     "execution_count": 20,
     "metadata": {},
     "output_type": "execute_result"
    }
   ],
   "source": [
    "len(T1)"
   ]
  },
  {
   "cell_type": "code",
   "execution_count": 21,
   "id": "4ff74194",
   "metadata": {},
   "outputs": [
    {
     "data": {
      "text/plain": [
       "3"
      ]
     },
     "execution_count": 21,
     "metadata": {},
     "output_type": "execute_result"
    }
   ],
   "source": [
    "T1.index(30)"
   ]
  },
  {
   "cell_type": "code",
   "execution_count": 22,
   "id": "71f7060f",
   "metadata": {},
   "outputs": [
    {
     "data": {
      "text/plain": [
       "1"
      ]
     },
     "execution_count": 22,
     "metadata": {},
     "output_type": "execute_result"
    }
   ],
   "source": [
    "T1.count(2)"
   ]
  },
  {
   "cell_type": "code",
   "execution_count": 23,
   "id": "5ac1538f",
   "metadata": {},
   "outputs": [
    {
     "data": {
      "text/plain": [
       "0"
      ]
     },
     "execution_count": 23,
     "metadata": {},
     "output_type": "execute_result"
    }
   ],
   "source": [
    "T1.count('Raj')"
   ]
  },
  {
   "cell_type": "code",
   "execution_count": 24,
   "id": "417aa08f",
   "metadata": {},
   "outputs": [],
   "source": [
    "del T1"
   ]
  },
  {
   "cell_type": "code",
   "execution_count": 37,
   "id": "90a0ef87",
   "metadata": {},
   "outputs": [],
   "source": [
    "T22 = (1,233,3,4,13131)"
   ]
  },
  {
   "cell_type": "code",
   "execution_count": 38,
   "id": "7f7e2335",
   "metadata": {},
   "outputs": [],
   "source": [
    "T2=sorted(T22)"
   ]
  },
  {
   "cell_type": "code",
   "execution_count": 39,
   "id": "6cf33a06",
   "metadata": {},
   "outputs": [
    {
     "data": {
      "text/plain": [
       "[1, 3, 4, 233, 13131]"
      ]
     },
     "execution_count": 39,
     "metadata": {},
     "output_type": "execute_result"
    }
   ],
   "source": [
    "T2"
   ]
  },
  {
   "cell_type": "code",
   "execution_count": 41,
   "id": "a6cf60f6",
   "metadata": {},
   "outputs": [
    {
     "data": {
      "text/plain": [
       "1"
      ]
     },
     "execution_count": 41,
     "metadata": {},
     "output_type": "execute_result"
    }
   ],
   "source": [
    "min(T2)"
   ]
  },
  {
   "cell_type": "code",
   "execution_count": 42,
   "id": "92c950b7",
   "metadata": {},
   "outputs": [
    {
     "data": {
      "text/plain": [
       "13131"
      ]
     },
     "execution_count": 42,
     "metadata": {},
     "output_type": "execute_result"
    }
   ],
   "source": [
    "max(T2)"
   ]
  },
  {
   "cell_type": "code",
   "execution_count": 43,
   "id": "01b3b66f",
   "metadata": {},
   "outputs": [
    {
     "data": {
      "text/plain": [
       "13372"
      ]
     },
     "execution_count": 43,
     "metadata": {},
     "output_type": "execute_result"
    }
   ],
   "source": [
    "sum(T2)"
   ]
  },
  {
   "cell_type": "code",
   "execution_count": null,
   "id": "c07da921",
   "metadata": {},
   "outputs": [],
   "source": []
  }
 ],
 "metadata": {
  "kernelspec": {
   "display_name": "python37",
   "language": "python",
   "name": "python37"
  },
  "language_info": {
   "codemirror_mode": {
    "name": "ipython",
    "version": 3
   },
   "file_extension": ".py",
   "mimetype": "text/x-python",
   "name": "python",
   "nbconvert_exporter": "python",
   "pygments_lexer": "ipython3",
   "version": "3.7.10"
  }
 },
 "nbformat": 4,
 "nbformat_minor": 5
}
