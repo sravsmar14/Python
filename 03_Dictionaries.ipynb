{
 "cells": [
  {
   "cell_type": "markdown",
   "id": "6e28971a",
   "metadata": {},
   "source": [
    "# Dictonary \n",
    "\n",
    "##### allows to store key value pairs also known maps,hashtables,Assocaite arrays. Eg: Telephone directories> Values are retieved based on keys"
   ]
  },
  {
   "cell_type": "code",
   "execution_count": 6,
   "id": "e70b2059",
   "metadata": {},
   "outputs": [],
   "source": [
    "dict = {10:'Raj',20:'Sravanthi',30:'Joshwik'}"
   ]
  },
  {
   "cell_type": "code",
   "execution_count": 2,
   "id": "0620804e",
   "metadata": {},
   "outputs": [
    {
     "data": {
      "text/plain": [
       "dict_keys([1, 2, 3])"
      ]
     },
     "execution_count": 2,
     "metadata": {},
     "output_type": "execute_result"
    }
   ],
   "source": [
    "dict.keys()"
   ]
  },
  {
   "cell_type": "code",
   "execution_count": 3,
   "id": "215f5dd5",
   "metadata": {},
   "outputs": [
    {
     "data": {
      "text/plain": [
       "dict_values(['Raj', 'Sravanthi', 'Joshwik'])"
      ]
     },
     "execution_count": 3,
     "metadata": {},
     "output_type": "execute_result"
    }
   ],
   "source": [
    "dict.values()"
   ]
  },
  {
   "cell_type": "code",
   "execution_count": 7,
   "id": "38ed5f0f",
   "metadata": {},
   "outputs": [
    {
     "ename": "KeyError",
     "evalue": "1",
     "output_type": "error",
     "traceback": [
      "\u001b[0;31m---------------------------------------------------------------------------\u001b[0m",
      "\u001b[0;31mKeyError\u001b[0m                                  Traceback (most recent call last)",
      "\u001b[0;32m<ipython-input-7-f312a354b38d>\u001b[0m in \u001b[0;36m<module>\u001b[0;34m\u001b[0m\n\u001b[0;32m----> 1\u001b[0;31m \u001b[0mdict\u001b[0m\u001b[0;34m[\u001b[0m\u001b[0;36m1\u001b[0m\u001b[0;34m]\u001b[0m\u001b[0;34m\u001b[0m\u001b[0;34m\u001b[0m\u001b[0m\n\u001b[0m",
      "\u001b[0;31mKeyError\u001b[0m: 1"
     ]
    }
   ],
   "source": [
    "dict[1]"
   ]
  },
  {
   "cell_type": "code",
   "execution_count": 8,
   "id": "79c64289",
   "metadata": {},
   "outputs": [
    {
     "data": {
      "text/plain": [
       "'Raj'"
      ]
     },
     "execution_count": 8,
     "metadata": {},
     "output_type": "execute_result"
    }
   ],
   "source": [
    "dict[10]"
   ]
  },
  {
   "cell_type": "code",
   "execution_count": 9,
   "id": "8ef63653",
   "metadata": {},
   "outputs": [],
   "source": [
    "# adding an element to dict\n",
    "dict[5] = 'Nanan'"
   ]
  },
  {
   "cell_type": "code",
   "execution_count": 10,
   "id": "8deba990",
   "metadata": {},
   "outputs": [
    {
     "data": {
      "text/plain": [
       "{10: 'Raj', 20: 'Sravanthi', 30: 'Joshwik', 5: 'Nanan'}"
      ]
     },
     "execution_count": 10,
     "metadata": {},
     "output_type": "execute_result"
    }
   ],
   "source": [
    "dict"
   ]
  },
  {
   "cell_type": "code",
   "execution_count": 11,
   "id": "e6cfced7",
   "metadata": {},
   "outputs": [],
   "source": [
    "# deleting an element in dict\n",
    "del dict[5]"
   ]
  },
  {
   "cell_type": "code",
   "execution_count": 12,
   "id": "9ba4ea61",
   "metadata": {},
   "outputs": [
    {
     "data": {
      "text/plain": [
       "{10: 'Raj', 20: 'Sravanthi', 30: 'Joshwik'}"
      ]
     },
     "execution_count": 12,
     "metadata": {},
     "output_type": "execute_result"
    }
   ],
   "source": [
    "dict"
   ]
  },
  {
   "cell_type": "code",
   "execution_count": 21,
   "id": "02c9c2aa",
   "metadata": {},
   "outputs": [
    {
     "name": "stdout",
     "output_type": "stream",
     "text": [
      "key: 10 value: Raj\n",
      "key: 20 value: Sravanthi\n",
      "key: 30 value: Joshwik\n"
     ]
    }
   ],
   "source": [
    "for key in dict:\n",
    "    print ('key:',key, 'value:',dict[key])"
   ]
  },
  {
   "cell_type": "code",
   "execution_count": 20,
   "id": "60b6a41c",
   "metadata": {},
   "outputs": [
    {
     "data": {
      "text/plain": [
       "'Sravanthi'"
      ]
     },
     "execution_count": 20,
     "metadata": {},
     "output_type": "execute_result"
    }
   ],
   "source": [
    "dict[20]"
   ]
  },
  {
   "cell_type": "code",
   "execution_count": 22,
   "id": "26d16b2b",
   "metadata": {},
   "outputs": [
    {
     "name": "stdout",
     "output_type": "stream",
     "text": [
      "key: 30 value: Raj\n",
      "key: 30 value: Sravanthi\n",
      "key: 30 value: Joshwik\n"
     ]
    }
   ],
   "source": [
    "for k,v in dict.items():\n",
    "    print ('key:',key, 'value:',v)"
   ]
  },
  {
   "cell_type": "code",
   "execution_count": 23,
   "id": "8fc927c1",
   "metadata": {},
   "outputs": [
    {
     "data": {
      "text/plain": [
       "True"
      ]
     },
     "execution_count": 23,
     "metadata": {},
     "output_type": "execute_result"
    }
   ],
   "source": [
    "10 in dict"
   ]
  },
  {
   "cell_type": "code",
   "execution_count": 24,
   "id": "f2c5a679",
   "metadata": {},
   "outputs": [
    {
     "data": {
      "text/plain": [
       "False"
      ]
     },
     "execution_count": 24,
     "metadata": {},
     "output_type": "execute_result"
    }
   ],
   "source": [
    "'Raj' in dict"
   ]
  },
  {
   "cell_type": "code",
   "execution_count": 25,
   "id": "5530c544",
   "metadata": {},
   "outputs": [],
   "source": [
    "dict.clear()"
   ]
  },
  {
   "cell_type": "code",
   "execution_count": 26,
   "id": "97948e80",
   "metadata": {},
   "outputs": [
    {
     "data": {
      "text/plain": [
       "{}"
      ]
     },
     "execution_count": 26,
     "metadata": {},
     "output_type": "execute_result"
    }
   ],
   "source": [
    "dict"
   ]
  },
  {
   "cell_type": "markdown",
   "id": "296de442",
   "metadata": {},
   "source": [
    "# Dictionary\n",
    "##### Dictionary ---> Is an unordered collection of items where each item consist of key and value. It is mutable( can miodify its content) but key must be unqiue and immutable\n",
    "##### keys should be either number,string or tuple whereas value of python type\n",
    "##### To access dictonary elements you can use square brackets [] along with key \n",
    "##### UPDATE ---> This can be merged into one by using update() method\n",
    "##### DEL/POP ----> We can remove an item from existing dictonary using del or pop command. main difference is that pop will return the deleted value\n",
    "##### LEN ----> calculates no.of key value pairs\n",
    "##### CLEAR ---->  It removes all items from the particular dictonary but the dictonary remains\n",
    "##### ITEMS ---> It returns the content of dictonary as list key and value.The key and value pair will be in the form of tuple,which is not in any particular items\n",
    "##### keys ---> It will return list of keys in a dictonary\n",
    "##### values ---> It will return list of values in a dictonary\n",
    "##### cmp() ----> It is used to check wether  the given dictonaries are same or not \n",
    "##### SORTED ----> returns sorted sequence of keys.The sorting is in asecending order and does not modify original ditinoary\n",
    "##### popitem(). ----> it removes the item that was last inserted into the dictonary and it will return deleted value\n",
    "##### fromkeys(keys,value). ----> creates a new dictonary from the given sequence of elements with a value provided by the user\n",
    "##### MAX & MIN "
   ]
  },
  {
   "cell_type": "code",
   "execution_count": 52,
   "id": "ff586484",
   "metadata": {},
   "outputs": [],
   "source": [
    "d = {}\n",
    "d[1] = 'One'\n",
    "d[2] = 'Two'\n",
    "d[3] = 'Three'"
   ]
  },
  {
   "cell_type": "code",
   "execution_count": 53,
   "id": "ead2298d",
   "metadata": {},
   "outputs": [
    {
     "data": {
      "text/plain": [
       "{1: 'One', 2: 'Two', 3: 'Three'}"
      ]
     },
     "execution_count": 53,
     "metadata": {},
     "output_type": "execute_result"
    }
   ],
   "source": [
    "d"
   ]
  },
  {
   "cell_type": "code",
   "execution_count": 30,
   "id": "2cfdba4e",
   "metadata": {},
   "outputs": [
    {
     "data": {
      "text/plain": [
       "'Two'"
      ]
     },
     "execution_count": 30,
     "metadata": {},
     "output_type": "execute_result"
    }
   ],
   "source": [
    "d[2]"
   ]
  },
  {
   "cell_type": "code",
   "execution_count": 32,
   "id": "5799f352",
   "metadata": {},
   "outputs": [
    {
     "name": "stdout",
     "output_type": "stream",
     "text": [
      "One\n",
      "Two\n",
      "Three\n"
     ]
    }
   ],
   "source": [
    "for i in d:\n",
    "    print(d[i])"
   ]
  },
  {
   "cell_type": "code",
   "execution_count": 33,
   "id": "dc15fd19",
   "metadata": {},
   "outputs": [
    {
     "name": "stdout",
     "output_type": "stream",
     "text": [
      "1 : One\n",
      "2 : Two\n",
      "3 : Three\n"
     ]
    }
   ],
   "source": [
    "for i in d:\n",
    "    print(i,':', d[i])"
   ]
  },
  {
   "cell_type": "code",
   "execution_count": 34,
   "id": "e1d24a49",
   "metadata": {},
   "outputs": [],
   "source": [
    "# adding element to Dictonary\n",
    "d[10] = 'Ten'"
   ]
  },
  {
   "cell_type": "code",
   "execution_count": 35,
   "id": "3ee611e5",
   "metadata": {},
   "outputs": [
    {
     "data": {
      "text/plain": [
       "{1: 'One', 2: 'Two', 3: 'Three', 10: 'Ten'}"
      ]
     },
     "execution_count": 35,
     "metadata": {},
     "output_type": "execute_result"
    }
   ],
   "source": [
    "d"
   ]
  },
  {
   "cell_type": "code",
   "execution_count": 36,
   "id": "659e7f1a",
   "metadata": {},
   "outputs": [],
   "source": [
    "d[10] = 'New_Ten'"
   ]
  },
  {
   "cell_type": "code",
   "execution_count": 37,
   "id": "ff3f044f",
   "metadata": {},
   "outputs": [
    {
     "data": {
      "text/plain": [
       "{1: 'One', 2: 'Two', 3: 'Three', 10: 'New_Ten'}"
      ]
     },
     "execution_count": 37,
     "metadata": {},
     "output_type": "execute_result"
    }
   ],
   "source": [
    "d"
   ]
  },
  {
   "cell_type": "code",
   "execution_count": 38,
   "id": "41f7dca5",
   "metadata": {},
   "outputs": [],
   "source": [
    "d = {1:'one',2:'two'}"
   ]
  },
  {
   "cell_type": "code",
   "execution_count": 39,
   "id": "c82aea0f",
   "metadata": {},
   "outputs": [],
   "source": [
    "d1 = {3:'three',4:'four'}"
   ]
  },
  {
   "cell_type": "code",
   "execution_count": 40,
   "id": "2f4b1a05",
   "metadata": {},
   "outputs": [],
   "source": [
    "d.update(d1)"
   ]
  },
  {
   "cell_type": "code",
   "execution_count": 42,
   "id": "5a70a3b7",
   "metadata": {},
   "outputs": [
    {
     "data": {
      "text/plain": [
       "{1: 'one', 2: 'two', 3: 'three', 4: 'four'}"
      ]
     },
     "execution_count": 42,
     "metadata": {},
     "output_type": "execute_result"
    }
   ],
   "source": [
    "d"
   ]
  },
  {
   "cell_type": "code",
   "execution_count": 43,
   "id": "575c22ab",
   "metadata": {},
   "outputs": [],
   "source": [
    "del d[1]"
   ]
  },
  {
   "cell_type": "code",
   "execution_count": 44,
   "id": "85d36118",
   "metadata": {},
   "outputs": [
    {
     "data": {
      "text/plain": [
       "{2: 'two', 3: 'three', 4: 'four'}"
      ]
     },
     "execution_count": 44,
     "metadata": {},
     "output_type": "execute_result"
    }
   ],
   "source": [
    "d"
   ]
  },
  {
   "cell_type": "code",
   "execution_count": 47,
   "id": "d7ffda91",
   "metadata": {},
   "outputs": [],
   "source": [
    "a=d.pop(4)"
   ]
  },
  {
   "cell_type": "code",
   "execution_count": 48,
   "id": "33237a80",
   "metadata": {},
   "outputs": [
    {
     "data": {
      "text/plain": [
       "'four'"
      ]
     },
     "execution_count": 48,
     "metadata": {},
     "output_type": "execute_result"
    }
   ],
   "source": [
    "a"
   ]
  },
  {
   "cell_type": "code",
   "execution_count": 49,
   "id": "ddef581b",
   "metadata": {},
   "outputs": [
    {
     "data": {
      "text/plain": [
       "{2: 'two', 3: 'three'}"
      ]
     },
     "execution_count": 49,
     "metadata": {},
     "output_type": "execute_result"
    }
   ],
   "source": [
    "d"
   ]
  },
  {
   "cell_type": "code",
   "execution_count": 50,
   "id": "6c6ce31c",
   "metadata": {},
   "outputs": [
    {
     "data": {
      "text/plain": [
       "True"
      ]
     },
     "execution_count": 50,
     "metadata": {},
     "output_type": "execute_result"
    }
   ],
   "source": [
    "2 in d"
   ]
  },
  {
   "cell_type": "code",
   "execution_count": 51,
   "id": "1682117a",
   "metadata": {},
   "outputs": [
    {
     "data": {
      "text/plain": [
       "False"
      ]
     },
     "execution_count": 51,
     "metadata": {},
     "output_type": "execute_result"
    }
   ],
   "source": [
    "5 in d"
   ]
  },
  {
   "cell_type": "code",
   "execution_count": 54,
   "id": "df3d714d",
   "metadata": {},
   "outputs": [
    {
     "data": {
      "text/plain": [
       "{1: 'One', 2: 'Two', 3: 'Three'}"
      ]
     },
     "execution_count": 54,
     "metadata": {},
     "output_type": "execute_result"
    }
   ],
   "source": [
    "d"
   ]
  },
  {
   "cell_type": "code",
   "execution_count": 55,
   "id": "46764cd3",
   "metadata": {},
   "outputs": [
    {
     "data": {
      "text/plain": [
       "dict_items([(1, 'One'), (2, 'Two'), (3, 'Three')])"
      ]
     },
     "execution_count": 55,
     "metadata": {},
     "output_type": "execute_result"
    }
   ],
   "source": [
    "d.items()"
   ]
  },
  {
   "cell_type": "code",
   "execution_count": 57,
   "id": "23a9cc82",
   "metadata": {},
   "outputs": [
    {
     "ename": "TypeError",
     "evalue": "'dict_items' object does not support indexing",
     "output_type": "error",
     "traceback": [
      "\u001b[0;31m---------------------------------------------------------------------------\u001b[0m",
      "\u001b[0;31mTypeError\u001b[0m                                 Traceback (most recent call last)",
      "\u001b[0;32m<ipython-input-57-81c82730875a>\u001b[0m in \u001b[0;36m<module>\u001b[0;34m\u001b[0m\n\u001b[0;32m----> 1\u001b[0;31m \u001b[0md\u001b[0m\u001b[0;34m.\u001b[0m\u001b[0mitems\u001b[0m\u001b[0;34m(\u001b[0m\u001b[0;34m)\u001b[0m\u001b[0;34m[\u001b[0m\u001b[0;36m0\u001b[0m\u001b[0;34m]\u001b[0m\u001b[0;34m[\u001b[0m\u001b[0;36m0\u001b[0m\u001b[0;34m]\u001b[0m\u001b[0;34m\u001b[0m\u001b[0;34m\u001b[0m\u001b[0m\n\u001b[0m",
      "\u001b[0;31mTypeError\u001b[0m: 'dict_items' object does not support indexing"
     ]
    }
   ],
   "source": [
    "d.items()"
   ]
  },
  {
   "cell_type": "code",
   "execution_count": 59,
   "id": "5b4e850f",
   "metadata": {},
   "outputs": [
    {
     "data": {
      "text/plain": [
       "dict_items"
      ]
     },
     "execution_count": 59,
     "metadata": {},
     "output_type": "execute_result"
    }
   ],
   "source": [
    "type(d.items())"
   ]
  },
  {
   "cell_type": "code",
   "execution_count": 60,
   "id": "a86004d2",
   "metadata": {},
   "outputs": [],
   "source": [
    "d2 = {1: 'One', 2: 'Two', 3: 'Three'}\n"
   ]
  },
  {
   "cell_type": "code",
   "execution_count": 61,
   "id": "1b871c2e",
   "metadata": {},
   "outputs": [
    {
     "ename": "NameError",
     "evalue": "name 'cmp' is not defined",
     "output_type": "error",
     "traceback": [
      "\u001b[0;31m---------------------------------------------------------------------------\u001b[0m",
      "\u001b[0;31mNameError\u001b[0m                                 Traceback (most recent call last)",
      "\u001b[0;32m<ipython-input-61-f5c13141d21d>\u001b[0m in \u001b[0;36m<module>\u001b[0;34m\u001b[0m\n\u001b[0;32m----> 1\u001b[0;31m \u001b[0mcmp\u001b[0m\u001b[0;34m(\u001b[0m\u001b[0md\u001b[0m\u001b[0;34m,\u001b[0m\u001b[0md2\u001b[0m\u001b[0;34m)\u001b[0m\u001b[0;34m\u001b[0m\u001b[0;34m\u001b[0m\u001b[0m\n\u001b[0m",
      "\u001b[0;31mNameError\u001b[0m: name 'cmp' is not defined"
     ]
    }
   ],
   "source": [
    "cmp(d,d2)"
   ]
  },
  {
   "cell_type": "code",
   "execution_count": 62,
   "id": "8268501b",
   "metadata": {},
   "outputs": [],
   "source": [
    "d2 = {14: 'One', 2: 'Two', 13: 'Three'}\n"
   ]
  },
  {
   "cell_type": "code",
   "execution_count": 66,
   "id": "27e68726",
   "metadata": {},
   "outputs": [
    {
     "data": {
      "text/plain": [
       "[2, 13, 14]"
      ]
     },
     "execution_count": 66,
     "metadata": {},
     "output_type": "execute_result"
    }
   ],
   "source": [
    "sorted(d2)"
   ]
  },
  {
   "cell_type": "code",
   "execution_count": 67,
   "id": "8e5952a3",
   "metadata": {},
   "outputs": [
    {
     "data": {
      "text/plain": [
       "(13, 'Three')"
      ]
     },
     "execution_count": 67,
     "metadata": {},
     "output_type": "execute_result"
    }
   ],
   "source": [
    "d2.popitem()"
   ]
  },
  {
   "cell_type": "code",
   "execution_count": 68,
   "id": "bcfae198",
   "metadata": {},
   "outputs": [
    {
     "data": {
      "text/plain": [
       "{14: 'One', 2: 'Two'}"
      ]
     },
     "execution_count": 68,
     "metadata": {},
     "output_type": "execute_result"
    }
   ],
   "source": [
    "d2"
   ]
  },
  {
   "cell_type": "code",
   "execution_count": 69,
   "id": "1961a9bc",
   "metadata": {},
   "outputs": [],
   "source": [
    "key = {'a','e','i'}\n",
    "vowels = dict.fromkeys(key,'raj')"
   ]
  },
  {
   "cell_type": "code",
   "execution_count": 70,
   "id": "b1b92f37",
   "metadata": {},
   "outputs": [
    {
     "data": {
      "text/plain": [
       "{'e': 'raj', 'i': 'raj', 'a': 'raj'}"
      ]
     },
     "execution_count": 70,
     "metadata": {},
     "output_type": "execute_result"
    }
   ],
   "source": [
    "vowels"
   ]
  },
  {
   "cell_type": "code",
   "execution_count": 71,
   "id": "6ca59029",
   "metadata": {},
   "outputs": [
    {
     "data": {
      "text/plain": [
       "{1: 'One', 2: 'Two', 3: 'Three'}"
      ]
     },
     "execution_count": 71,
     "metadata": {},
     "output_type": "execute_result"
    }
   ],
   "source": [
    "d"
   ]
  },
  {
   "cell_type": "code",
   "execution_count": 73,
   "id": "31e60449",
   "metadata": {},
   "outputs": [
    {
     "data": {
      "text/plain": [
       "3"
      ]
     },
     "execution_count": 73,
     "metadata": {},
     "output_type": "execute_result"
    }
   ],
   "source": [
    "max(d)"
   ]
  },
  {
   "cell_type": "code",
   "execution_count": 74,
   "id": "874fd5e5",
   "metadata": {},
   "outputs": [
    {
     "data": {
      "text/plain": [
       "1"
      ]
     },
     "execution_count": 74,
     "metadata": {},
     "output_type": "execute_result"
    }
   ],
   "source": [
    "min(d)"
   ]
  },
  {
   "cell_type": "code",
   "execution_count": 75,
   "id": "ac3dd44d",
   "metadata": {},
   "outputs": [
    {
     "name": "stdout",
     "output_type": "stream",
     "text": [
      "Two\n"
     ]
    }
   ],
   "source": [
    "print(max(d.values()))"
   ]
  },
  {
   "cell_type": "code",
   "execution_count": 76,
   "id": "97527d7f",
   "metadata": {},
   "outputs": [
    {
     "name": "stdout",
     "output_type": "stream",
     "text": [
      "One\n"
     ]
    }
   ],
   "source": [
    "print(min(d.values()))"
   ]
  },
  {
   "cell_type": "code",
   "execution_count": 77,
   "id": "dc62e4a5",
   "metadata": {},
   "outputs": [
    {
     "name": "stdout",
     "output_type": "stream",
     "text": [
      "3\n"
     ]
    }
   ],
   "source": [
    "print(max(d.keys()))"
   ]
  },
  {
   "cell_type": "code",
   "execution_count": 78,
   "id": "b6dc29e7",
   "metadata": {},
   "outputs": [
    {
     "name": "stdout",
     "output_type": "stream",
     "text": [
      "1\n"
     ]
    }
   ],
   "source": [
    "print(min(d.keys()))"
   ]
  },
  {
   "cell_type": "code",
   "execution_count": null,
   "id": "06d82e73",
   "metadata": {},
   "outputs": [],
   "source": []
  }
 ],
 "metadata": {
  "kernelspec": {
   "display_name": "Python 3",
   "language": "python",
   "name": "python3"
  },
  "language_info": {
   "codemirror_mode": {
    "name": "ipython",
    "version": 3
   },
   "file_extension": ".py",
   "mimetype": "text/x-python",
   "name": "python",
   "nbconvert_exporter": "python",
   "pygments_lexer": "ipython3",
   "version": "3.6.12"
  }
 },
 "nbformat": 4,
 "nbformat_minor": 5
}
